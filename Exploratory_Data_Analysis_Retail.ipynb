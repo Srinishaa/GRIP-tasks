{
  "nbformat": 4,
  "nbformat_minor": 0,
  "metadata": {
    "colab": {
      "name": "Exploratory Data Analysis - Retail.ipynb",
      "provenance": [],
      "collapsed_sections": [],
      "authorship_tag": "ABX9TyMZhFtM2uaRj2PCb2AJf1A/",
      "include_colab_link": true
    },
    "kernelspec": {
      "name": "python3",
      "display_name": "Python 3"
    }
  },
  "cells": [
    {
      "cell_type": "markdown",
      "metadata": {
        "id": "view-in-github",
        "colab_type": "text"
      },
      "source": [
        "<a href=\"https://colab.research.google.com/github/Srinishaa/GRIP-tasks/blob/main/Exploratory_Data_Analysis_Retail.ipynb\" target=\"_parent\"><img src=\"https://colab.research.google.com/assets/colab-badge.svg\" alt=\"Open In Colab\"/></a>"
      ]
    },
    {
      "cell_type": "markdown",
      "metadata": {
        "id": "jKTDKcOYTjjZ"
      },
      "source": [
        "# **Exploratory Data Analysis - Retail**\r\n",
        "\r\n",
        "---\r\n",
        "\r\n",
        "\r\n",
        "\r\n",
        "\r\n"
      ]
    },
    {
      "cell_type": "code",
      "metadata": {
        "id": "BAq6Z18wTpFX"
      },
      "source": [
        "#Imports\r\n",
        "import pandas as pd\r\n",
        "import numpy as np\r\n",
        "import matplotlib.pyplot as plt\r\n",
        "import seaborn as sns"
      ],
      "execution_count": null,
      "outputs": []
    },
    {
      "cell_type": "code",
      "metadata": {
        "colab": {
          "base_uri": "https://localhost:8080/",
          "height": 326
        },
        "id": "3l6yQ0vTTyVY",
        "outputId": "c326685c-ae2c-46f0-e0d1-6f24e4b1164a"
      },
      "source": [
        "file='SampleSuperstore.csv'\r\n",
        "data=pd.read_csv(file)\r\n",
        "data.head()"
      ],
      "execution_count": null,
      "outputs": [
        {
          "output_type": "execute_result",
          "data": {
            "text/html": [
              "<div>\n",
              "<style scoped>\n",
              "    .dataframe tbody tr th:only-of-type {\n",
              "        vertical-align: middle;\n",
              "    }\n",
              "\n",
              "    .dataframe tbody tr th {\n",
              "        vertical-align: top;\n",
              "    }\n",
              "\n",
              "    .dataframe thead th {\n",
              "        text-align: right;\n",
              "    }\n",
              "</style>\n",
              "<table border=\"1\" class=\"dataframe\">\n",
              "  <thead>\n",
              "    <tr style=\"text-align: right;\">\n",
              "      <th></th>\n",
              "      <th>Ship Mode</th>\n",
              "      <th>Segment</th>\n",
              "      <th>Country</th>\n",
              "      <th>City</th>\n",
              "      <th>State</th>\n",
              "      <th>Postal Code</th>\n",
              "      <th>Region</th>\n",
              "      <th>Category</th>\n",
              "      <th>Sub-Category</th>\n",
              "      <th>Sales</th>\n",
              "      <th>Quantity</th>\n",
              "      <th>Discount</th>\n",
              "      <th>Profit</th>\n",
              "    </tr>\n",
              "  </thead>\n",
              "  <tbody>\n",
              "    <tr>\n",
              "      <th>0</th>\n",
              "      <td>Second Class</td>\n",
              "      <td>Consumer</td>\n",
              "      <td>United States</td>\n",
              "      <td>Henderson</td>\n",
              "      <td>Kentucky</td>\n",
              "      <td>42420</td>\n",
              "      <td>South</td>\n",
              "      <td>Furniture</td>\n",
              "      <td>Bookcases</td>\n",
              "      <td>261.9600</td>\n",
              "      <td>2</td>\n",
              "      <td>0.00</td>\n",
              "      <td>41.9136</td>\n",
              "    </tr>\n",
              "    <tr>\n",
              "      <th>1</th>\n",
              "      <td>Second Class</td>\n",
              "      <td>Consumer</td>\n",
              "      <td>United States</td>\n",
              "      <td>Henderson</td>\n",
              "      <td>Kentucky</td>\n",
              "      <td>42420</td>\n",
              "      <td>South</td>\n",
              "      <td>Furniture</td>\n",
              "      <td>Chairs</td>\n",
              "      <td>731.9400</td>\n",
              "      <td>3</td>\n",
              "      <td>0.00</td>\n",
              "      <td>219.5820</td>\n",
              "    </tr>\n",
              "    <tr>\n",
              "      <th>2</th>\n",
              "      <td>Second Class</td>\n",
              "      <td>Corporate</td>\n",
              "      <td>United States</td>\n",
              "      <td>Los Angeles</td>\n",
              "      <td>California</td>\n",
              "      <td>90036</td>\n",
              "      <td>West</td>\n",
              "      <td>Office Supplies</td>\n",
              "      <td>Labels</td>\n",
              "      <td>14.6200</td>\n",
              "      <td>2</td>\n",
              "      <td>0.00</td>\n",
              "      <td>6.8714</td>\n",
              "    </tr>\n",
              "    <tr>\n",
              "      <th>3</th>\n",
              "      <td>Standard Class</td>\n",
              "      <td>Consumer</td>\n",
              "      <td>United States</td>\n",
              "      <td>Fort Lauderdale</td>\n",
              "      <td>Florida</td>\n",
              "      <td>33311</td>\n",
              "      <td>South</td>\n",
              "      <td>Furniture</td>\n",
              "      <td>Tables</td>\n",
              "      <td>957.5775</td>\n",
              "      <td>5</td>\n",
              "      <td>0.45</td>\n",
              "      <td>-383.0310</td>\n",
              "    </tr>\n",
              "    <tr>\n",
              "      <th>4</th>\n",
              "      <td>Standard Class</td>\n",
              "      <td>Consumer</td>\n",
              "      <td>United States</td>\n",
              "      <td>Fort Lauderdale</td>\n",
              "      <td>Florida</td>\n",
              "      <td>33311</td>\n",
              "      <td>South</td>\n",
              "      <td>Office Supplies</td>\n",
              "      <td>Storage</td>\n",
              "      <td>22.3680</td>\n",
              "      <td>2</td>\n",
              "      <td>0.20</td>\n",
              "      <td>2.5164</td>\n",
              "    </tr>\n",
              "  </tbody>\n",
              "</table>\n",
              "</div>"
            ],
            "text/plain": [
              "        Ship Mode    Segment        Country  ... Quantity Discount    Profit\n",
              "0    Second Class   Consumer  United States  ...        2     0.00   41.9136\n",
              "1    Second Class   Consumer  United States  ...        3     0.00  219.5820\n",
              "2    Second Class  Corporate  United States  ...        2     0.00    6.8714\n",
              "3  Standard Class   Consumer  United States  ...        5     0.45 -383.0310\n",
              "4  Standard Class   Consumer  United States  ...        2     0.20    2.5164\n",
              "\n",
              "[5 rows x 13 columns]"
            ]
          },
          "metadata": {
            "tags": []
          },
          "execution_count": 4
        }
      ]
    },
    {
      "cell_type": "markdown",
      "metadata": {
        "id": "2mtaqfbVgCqp"
      },
      "source": [
        "# Data Visualisation"
      ]
    },
    {
      "cell_type": "code",
      "metadata": {
        "colab": {
          "base_uri": "https://localhost:8080/",
          "height": 297
        },
        "id": "5CmibKwvT5h-",
        "outputId": "392f8028-561e-4e2c-bb3e-96c44112cd84"
      },
      "source": [
        "data.describe()"
      ],
      "execution_count": null,
      "outputs": [
        {
          "output_type": "execute_result",
          "data": {
            "text/html": [
              "<div>\n",
              "<style scoped>\n",
              "    .dataframe tbody tr th:only-of-type {\n",
              "        vertical-align: middle;\n",
              "    }\n",
              "\n",
              "    .dataframe tbody tr th {\n",
              "        vertical-align: top;\n",
              "    }\n",
              "\n",
              "    .dataframe thead th {\n",
              "        text-align: right;\n",
              "    }\n",
              "</style>\n",
              "<table border=\"1\" class=\"dataframe\">\n",
              "  <thead>\n",
              "    <tr style=\"text-align: right;\">\n",
              "      <th></th>\n",
              "      <th>Postal Code</th>\n",
              "      <th>Sales</th>\n",
              "      <th>Quantity</th>\n",
              "      <th>Discount</th>\n",
              "      <th>Profit</th>\n",
              "    </tr>\n",
              "  </thead>\n",
              "  <tbody>\n",
              "    <tr>\n",
              "      <th>count</th>\n",
              "      <td>9994.000000</td>\n",
              "      <td>9994.000000</td>\n",
              "      <td>9994.000000</td>\n",
              "      <td>9994.000000</td>\n",
              "      <td>9994.000000</td>\n",
              "    </tr>\n",
              "    <tr>\n",
              "      <th>mean</th>\n",
              "      <td>55190.379428</td>\n",
              "      <td>229.858001</td>\n",
              "      <td>3.789574</td>\n",
              "      <td>0.156203</td>\n",
              "      <td>28.656896</td>\n",
              "    </tr>\n",
              "    <tr>\n",
              "      <th>std</th>\n",
              "      <td>32063.693350</td>\n",
              "      <td>623.245101</td>\n",
              "      <td>2.225110</td>\n",
              "      <td>0.206452</td>\n",
              "      <td>234.260108</td>\n",
              "    </tr>\n",
              "    <tr>\n",
              "      <th>min</th>\n",
              "      <td>1040.000000</td>\n",
              "      <td>0.444000</td>\n",
              "      <td>1.000000</td>\n",
              "      <td>0.000000</td>\n",
              "      <td>-6599.978000</td>\n",
              "    </tr>\n",
              "    <tr>\n",
              "      <th>25%</th>\n",
              "      <td>23223.000000</td>\n",
              "      <td>17.280000</td>\n",
              "      <td>2.000000</td>\n",
              "      <td>0.000000</td>\n",
              "      <td>1.728750</td>\n",
              "    </tr>\n",
              "    <tr>\n",
              "      <th>50%</th>\n",
              "      <td>56430.500000</td>\n",
              "      <td>54.490000</td>\n",
              "      <td>3.000000</td>\n",
              "      <td>0.200000</td>\n",
              "      <td>8.666500</td>\n",
              "    </tr>\n",
              "    <tr>\n",
              "      <th>75%</th>\n",
              "      <td>90008.000000</td>\n",
              "      <td>209.940000</td>\n",
              "      <td>5.000000</td>\n",
              "      <td>0.200000</td>\n",
              "      <td>29.364000</td>\n",
              "    </tr>\n",
              "    <tr>\n",
              "      <th>max</th>\n",
              "      <td>99301.000000</td>\n",
              "      <td>22638.480000</td>\n",
              "      <td>14.000000</td>\n",
              "      <td>0.800000</td>\n",
              "      <td>8399.976000</td>\n",
              "    </tr>\n",
              "  </tbody>\n",
              "</table>\n",
              "</div>"
            ],
            "text/plain": [
              "        Postal Code         Sales     Quantity     Discount       Profit\n",
              "count   9994.000000   9994.000000  9994.000000  9994.000000  9994.000000\n",
              "mean   55190.379428    229.858001     3.789574     0.156203    28.656896\n",
              "std    32063.693350    623.245101     2.225110     0.206452   234.260108\n",
              "min     1040.000000      0.444000     1.000000     0.000000 -6599.978000\n",
              "25%    23223.000000     17.280000     2.000000     0.000000     1.728750\n",
              "50%    56430.500000     54.490000     3.000000     0.200000     8.666500\n",
              "75%    90008.000000    209.940000     5.000000     0.200000    29.364000\n",
              "max    99301.000000  22638.480000    14.000000     0.800000  8399.976000"
            ]
          },
          "metadata": {
            "tags": []
          },
          "execution_count": 5
        }
      ]
    },
    {
      "cell_type": "code",
      "metadata": {
        "colab": {
          "base_uri": "https://localhost:8080/"
        },
        "id": "X3niIdKlc8Qz",
        "outputId": "2e2e7980-2712-4c80-9bdf-933ac3b23efb"
      },
      "source": [
        "pd.isnull(data).values.any()"
      ],
      "execution_count": null,
      "outputs": [
        {
          "output_type": "execute_result",
          "data": {
            "text/plain": [
              "False"
            ]
          },
          "metadata": {
            "tags": []
          },
          "execution_count": 6
        }
      ]
    },
    {
      "cell_type": "markdown",
      "metadata": {
        "id": "uukctAXneqDU"
      },
      "source": [
        "## Visualising data - Histograms, Distributions and Bar charts"
      ]
    },
    {
      "cell_type": "code",
      "metadata": {
        "id": "ugW5QAF6f9z1",
        "colab": {
          "base_uri": "https://localhost:8080/",
          "height": 388
        },
        "outputId": "2be5846c-ad86-4db3-ded4-5f79463c8002"
      },
      "source": [
        "# Histogram of Profit\r\n",
        "plt.figure(figsize=(10,6))\r\n",
        "plt.xlim(-1500,1500)\r\n",
        "plt.hist(data['Profit'],bins=50)\r\n",
        "plt.xlabel('Profit')\r\n",
        "plt.ylabel('Frequency of profit')\r\n",
        "plt.show()"
      ],
      "execution_count": 37,
      "outputs": [
        {
          "output_type": "display_data",
          "data": {
            "image/png": "[encoded data removed]",
            "text/plain": [
              "<Figure size 720x432 with 1 Axes>"
            ]
          },
          "metadata": {
            "tags": [],
            "needs_background": "light"
          }
        }
      ]
    },
    {
      "cell_type": "markdown",
      "metadata": {
        "id": "hRCyE_ABf9xP"
      },
      "source": [
        "From the plot above we can observe that the profit is highest between range of 0-250"
      ]
    },
    {
      "cell_type": "markdown",
      "metadata": {
        "id": "zL4qm_V-f9uU"
      },
      "source": [
        "# Univariate Analysis"
      ]
    },
    {
      "cell_type": "code",
      "metadata": {
        "colab": {
          "base_uri": "https://localhost:8080/"
        },
        "id": "XHG3cP4zf8Xn",
        "outputId": "10a0212d-2ab4-49af-8459-a7a70b7159a9"
      },
      "source": [
        "# Analysing the different Category items sold in supermarket\r\n",
        "print(data['Category'].value_counts(),'\\n')\r\n",
        "print('% of each category sold \\n')\r\n",
        "print((data['Category'].value_counts()/data['Category'].size)*100)"
      ],
      "execution_count": null,
      "outputs": [
        {
          "output_type": "stream",
          "text": [
            "Office Supplies    6026\n",
            "Furniture          2121\n",
            "Technology         1847\n",
            "Name: Category, dtype: int64 \n",
            "\n",
            "% of each category sold \n",
            "\n",
            "Office Supplies    60.296178\n",
            "Furniture          21.222734\n",
            "Technology         18.481089\n",
            "Name: Category, dtype: float64\n"
          ],
          "name": "stdout"
        }
      ]
    },
    {
      "cell_type": "code",
      "metadata": {
        "colab": {
          "base_uri": "https://localhost:8080/"
        },
        "id": "r2XBPPPTr9aV",
        "outputId": "0b76f5a8-f480-4c04-d912-db90ea277011"
      },
      "source": [
        "# Analysing the different Sub-Category items sold in supermarket\r\n",
        "print(data['Sub-Category'].value_counts(),'\\n')\r\n",
        "print('% of each Sub-category sold \\n')\r\n",
        "print((data['Sub-Category'].value_counts()/data['Sub-Category'].size)*100)"
      ],
      "execution_count": null,
      "outputs": [
        {
          "output_type": "stream",
          "text": [
            "Binders        1523\n",
            "Paper          1370\n",
            "Furnishings     957\n",
            "Phones          889\n",
            "Storage         846\n",
            "Art             796\n",
            "Accessories     775\n",
            "Chairs          617\n",
            "Appliances      466\n",
            "Labels          364\n",
            "Tables          319\n",
            "Envelopes       254\n",
            "Bookcases       228\n",
            "Fasteners       217\n",
            "Supplies        190\n",
            "Machines        115\n",
            "Copiers          68\n",
            "Name: Sub-Category, dtype: int64 \n",
            "\n",
            "% of each Sub-category sold \n",
            "\n",
            "Binders        15.239143\n",
            "Paper          13.708225\n",
            "Furnishings     9.575745\n",
            "Phones          8.895337\n",
            "Storage         8.465079\n",
            "Art             7.964779\n",
            "Accessories     7.754653\n",
            "Chairs          6.173704\n",
            "Appliances      4.662798\n",
            "Labels          3.642185\n",
            "Tables          3.191915\n",
            "Envelopes       2.541525\n",
            "Bookcases       2.281369\n",
            "Fasteners       2.171303\n",
            "Supplies        1.901141\n",
            "Machines        1.150690\n",
            "Copiers         0.680408\n",
            "Name: Sub-Category, dtype: float64\n"
          ],
          "name": "stdout"
        }
      ]
    },
    {
      "cell_type": "code",
      "metadata": {
        "colab": {
          "base_uri": "https://localhost:8080/",
          "height": 671
        },
        "id": "LqFnqi6VkVZG",
        "outputId": "e6c89e20-32e2-4d49-c2dd-99b901d2ed84"
      },
      "source": [
        "# Bar plot of Category and Sub-Category\r\n",
        "plt.figure(figsize=(20,10))\r\n",
        "plt.subplot(2,1,1)\r\n",
        "data['Category'].value_counts().plot(kind='bar')\r\n",
        "plt.xlabel('Category')\r\n",
        "plt.ylabel('Frequency of Category')\r\n",
        "\r\n",
        "plt.subplot(2,1,2)\r\n",
        "data['Sub-Category'].value_counts().plot(kind='bar',color='purple')\r\n",
        "plt.xlabel('Sub-Category')\r\n",
        "plt.ylabel('Frequency of Sub-Category')\r\n",
        "plt.plot()"
      ],
      "execution_count": null,
      "outputs": [
        {
          "output_type": "execute_result",
          "data": {
            "text/plain": [
              "[]"
            ]
          },
          "metadata": {
            "tags": []
          },
          "execution_count": 26
        },
        {
          "output_type": "display_data",
          "data": {
            "image/png": "[encoded data removed]",
            "text/plain": [
              "<Figure size 1440x720 with 2 Axes>"
            ]
          },
          "metadata": {
            "tags": [],
            "needs_background": "light"
          }
        }
      ]
    },
    {
      "cell_type": "code",
      "metadata": {
        "colab": {
          "base_uri": "https://localhost:8080/"
        },
        "id": "-LFD-DwKm9ZB",
        "outputId": "7a4840b6-ba77-4346-d7f7-df43ccabdb6f"
      },
      "source": [
        "# Analysing the different Segments\r\n",
        "print(data['Segment'].value_counts(),'\\n')\r\n",
        "print('% of Segments')\r\n",
        "print((data['Segment'].value_counts()/data['Segment'].size)*100)"
      ],
      "execution_count": null,
      "outputs": [
        {
          "output_type": "stream",
          "text": [
            "Consumer       5191\n",
            "Corporate      3020\n",
            "Home Office    1783\n",
            "Name: Segment, dtype: int64 \n",
            "\n",
            "% of Segments\n",
            "Consumer       51.941165\n",
            "Corporate      30.218131\n",
            "Home Office    17.840704\n",
            "Name: Segment, dtype: float64\n"
          ],
          "name": "stdout"
        }
      ]
    },
    {
      "cell_type": "code",
      "metadata": {
        "colab": {
          "base_uri": "https://localhost:8080/",
          "height": 331
        },
        "id": "ij7DyWGenVka",
        "outputId": "3459ff31-bd37-4592-98c9-0c474e35ca6e"
      },
      "source": [
        "# Bar plot of Segments\r\n",
        "data['Segment'].value_counts().plot(kind='bar',color='red')\r\n",
        "plt.xlabel('Segments')\r\n",
        "plt.ylabel('Frequency of Segments')\r\n",
        "plt.show()"
      ],
      "execution_count": 40,
      "outputs": [
        {
          "output_type": "display_data",
          "data": {
            "image/png": "[encoded data removed]",
            "text/plain": [
              "<Figure size 432x288 with 1 Axes>"
            ]
          },
          "metadata": {
            "tags": [],
            "needs_background": "light"
          }
        }
      ]
    },
    {
      "cell_type": "code",
      "metadata": {
        "colab": {
          "base_uri": "https://localhost:8080/"
        },
        "id": "V6JwgJs0nfc0",
        "outputId": "6e708499-b8e6-4667-aa9a-a3d89e435d86"
      },
      "source": [
        "# Analysing the Ship Modes\r\n",
        "print(data['Ship Mode'].value_counts(),'\\n')\r\n",
        "print('% of each the Ship Mode \\n')\r\n",
        "print((data['Ship Mode'].value_counts()/data['Ship Mode'].size)*100)"
      ],
      "execution_count": null,
      "outputs": [
        {
          "output_type": "stream",
          "text": [
            "Standard Class    5968\n",
            "Second Class      1945\n",
            "First Class       1538\n",
            "Same Day           543\n",
            "Name: Ship Mode, dtype: int64 \n",
            "\n",
            "% of each the Ship Mode \n",
            "\n",
            "Standard Class    59.715829\n",
            "Second Class      19.461677\n",
            "First Class       15.389234\n",
            "Same Day           5.433260\n",
            "Name: Ship Mode, dtype: float64\n"
          ],
          "name": "stdout"
        }
      ]
    },
    {
      "cell_type": "code",
      "metadata": {
        "colab": {
          "base_uri": "https://localhost:8080/",
          "height": 344
        },
        "id": "UhngIme0ofNv",
        "outputId": "aba75575-aa23-48bf-8c7c-3cc5a30c8f45"
      },
      "source": [
        "# Bar graph of the Ship Modes\r\n",
        "segments=((data['Ship Mode'].value_counts()/data['Ship Mode'].size)*100)\r\n",
        "segments.plot(kind='bar',color='#ee99a0')\r\n",
        "plt.xlabel('Ship Modes')\r\n",
        "plt.ylabel('% Frequency of the Ship Modes')\r\n",
        "plt.show()"
      ],
      "execution_count": null,
      "outputs": [
        {
          "output_type": "display_data",
          "data": {
            "image/png": "[encoded data removed]",
            "text/plain": [
              "<Figure size 432x288 with 1 Axes>"
            ]
          },
          "metadata": {
            "tags": [],
            "needs_background": "light"
          }
        }
      ]
    },
    {
      "cell_type": "markdown",
      "metadata": {
        "id": "OS5nxgIifm4u"
      },
      "source": [
        "# Bivariate Analysis- involving or depending on two variates"
      ]
    },
    {
      "cell_type": "code",
      "metadata": {
        "colab": {
          "base_uri": "https://localhost:8080/",
          "height": 173
        },
        "id": "IuYkRVSfqyUh",
        "outputId": "0a4e6ec9-a5d6-4ab6-dad8-1b2d39bb5183"
      },
      "source": [
        "data.pivot_table(index='Segment',columns='Discount',values='Profit',aggfunc='mean')"
      ],
      "execution_count": null,
      "outputs": [
        {
          "output_type": "execute_result",
          "data": {
            "text/html": [
              "<div>\n",
              "<style scoped>\n",
              "    .dataframe tbody tr th:only-of-type {\n",
              "        vertical-align: middle;\n",
              "    }\n",
              "\n",
              "    .dataframe tbody tr th {\n",
              "        vertical-align: top;\n",
              "    }\n",
              "\n",
              "    .dataframe thead th {\n",
              "        text-align: right;\n",
              "    }\n",
              "</style>\n",
              "<table border=\"1\" class=\"dataframe\">\n",
              "  <thead>\n",
              "    <tr style=\"text-align: right;\">\n",
              "      <th>Discount</th>\n",
              "      <th>0.00</th>\n",
              "      <th>0.10</th>\n",
              "      <th>0.15</th>\n",
              "      <th>0.20</th>\n",
              "      <th>0.30</th>\n",
              "      <th>0.32</th>\n",
              "      <th>0.40</th>\n",
              "      <th>0.45</th>\n",
              "      <th>0.50</th>\n",
              "      <th>0.60</th>\n",
              "      <th>0.70</th>\n",
              "      <th>0.80</th>\n",
              "    </tr>\n",
              "    <tr>\n",
              "      <th>Segment</th>\n",
              "      <th></th>\n",
              "      <th></th>\n",
              "      <th></th>\n",
              "      <th></th>\n",
              "      <th></th>\n",
              "      <th></th>\n",
              "      <th></th>\n",
              "      <th></th>\n",
              "      <th></th>\n",
              "      <th></th>\n",
              "      <th></th>\n",
              "      <th></th>\n",
              "    </tr>\n",
              "  </thead>\n",
              "  <tbody>\n",
              "    <tr>\n",
              "      <th>Consumer</th>\n",
              "      <td>64.161707</td>\n",
              "      <td>93.630090</td>\n",
              "      <td>15.744638</td>\n",
              "      <td>22.426571</td>\n",
              "      <td>-48.018291</td>\n",
              "      <td>-102.708631</td>\n",
              "      <td>-93.462041</td>\n",
              "      <td>-216.651900</td>\n",
              "      <td>-253.572181</td>\n",
              "      <td>-38.639822</td>\n",
              "      <td>-106.962433</td>\n",
              "      <td>-115.213404</td>\n",
              "    </tr>\n",
              "    <tr>\n",
              "      <th>Corporate</th>\n",
              "      <td>71.584290</td>\n",
              "      <td>99.802956</td>\n",
              "      <td>49.282143</td>\n",
              "      <td>23.157672</td>\n",
              "      <td>-46.241380</td>\n",
              "      <td>-82.702010</td>\n",
              "      <td>-132.003562</td>\n",
              "      <td>-280.968633</td>\n",
              "      <td>-388.164788</td>\n",
              "      <td>-40.623326</td>\n",
              "      <td>-68.023771</td>\n",
              "      <td>-96.815833</td>\n",
              "    </tr>\n",
              "    <tr>\n",
              "      <th>Home Office</th>\n",
              "      <td>66.961384</td>\n",
              "      <td>97.234865</td>\n",
              "      <td>30.271889</td>\n",
              "      <td>34.734830</td>\n",
              "      <td>-37.189678</td>\n",
              "      <td>-57.226350</td>\n",
              "      <td>-119.900858</td>\n",
              "      <td>-175.146900</td>\n",
              "      <td>-377.121333</td>\n",
              "      <td>-60.039948</td>\n",
              "      <td>-115.479956</td>\n",
              "      <td>-62.509202</td>\n",
              "    </tr>\n",
              "  </tbody>\n",
              "</table>\n",
              "</div>"
            ],
            "text/plain": [
              "Discount          0.00       0.10       0.15  ...       0.60        0.70        0.80\n",
              "Segment                                       ...                                   \n",
              "Consumer     64.161707  93.630090  15.744638  ... -38.639822 -106.962433 -115.213404\n",
              "Corporate    71.584290  99.802956  49.282143  ... -40.623326  -68.023771  -96.815833\n",
              "Home Office  66.961384  97.234865  30.271889  ... -60.039948 -115.479956  -62.509202\n",
              "\n",
              "[3 rows x 12 columns]"
            ]
          },
          "metadata": {
            "tags": []
          },
          "execution_count": 15
        }
      ]
    },
    {
      "cell_type": "markdown",
      "metadata": {
        "id": "fkyWmMvegxRz"
      },
      "source": [
        "The above table shows that with discounts more than 0.20 ie. 20% all the segments show a negative profit rate."
      ]
    },
    {
      "cell_type": "code",
      "metadata": {
        "colab": {
          "base_uri": "https://localhost:8080/",
          "height": 173
        },
        "id": "i_8HM2iMcvTV",
        "outputId": "62944d97-18dd-46f3-cf82-f96a08621b29"
      },
      "source": [
        "data.pivot_table(index='Segment',columns='Category',values='Profit',aggfunc='mean')"
      ],
      "execution_count": null,
      "outputs": [
        {
          "output_type": "execute_result",
          "data": {
            "text/html": [
              "<div>\n",
              "<style scoped>\n",
              "    .dataframe tbody tr th:only-of-type {\n",
              "        vertical-align: middle;\n",
              "    }\n",
              "\n",
              "    .dataframe tbody tr th {\n",
              "        vertical-align: top;\n",
              "    }\n",
              "\n",
              "    .dataframe thead th {\n",
              "        text-align: right;\n",
              "    }\n",
              "</style>\n",
              "<table border=\"1\" class=\"dataframe\">\n",
              "  <thead>\n",
              "    <tr style=\"text-align: right;\">\n",
              "      <th>Category</th>\n",
              "      <th>Furniture</th>\n",
              "      <th>Office Supplies</th>\n",
              "      <th>Technology</th>\n",
              "    </tr>\n",
              "    <tr>\n",
              "      <th>Segment</th>\n",
              "      <th></th>\n",
              "      <th></th>\n",
              "      <th></th>\n",
              "    </tr>\n",
              "  </thead>\n",
              "  <tbody>\n",
              "    <tr>\n",
              "      <th>Consumer</th>\n",
              "      <td>6.281293</td>\n",
              "      <td>18.014174</td>\n",
              "      <td>74.445646</td>\n",
              "    </tr>\n",
              "    <tr>\n",
              "      <th>Corporate</th>\n",
              "      <td>11.741201</td>\n",
              "      <td>22.102923</td>\n",
              "      <td>79.723823</td>\n",
              "    </tr>\n",
              "    <tr>\n",
              "      <th>Home Office</th>\n",
              "      <td>10.705465</td>\n",
              "      <td>24.034439</td>\n",
              "      <td>89.152458</td>\n",
              "    </tr>\n",
              "  </tbody>\n",
              "</table>\n",
              "</div>"
            ],
            "text/plain": [
              "Category     Furniture  Office Supplies  Technology\n",
              "Segment                                            \n",
              "Consumer      6.281293        18.014174   74.445646\n",
              "Corporate    11.741201        22.102923   79.723823\n",
              "Home Office  10.705465        24.034439   89.152458"
            ]
          },
          "metadata": {
            "tags": []
          },
          "execution_count": 16
        }
      ]
    },
    {
      "cell_type": "markdown",
      "metadata": {
        "id": "1MiP1IsHhEwL"
      },
      "source": [
        "The above table shows that technology gives the most profit in all segments."
      ]
    },
    {
      "cell_type": "code",
      "metadata": {
        "colab": {
          "base_uri": "https://localhost:8080/",
          "height": 227
        },
        "id": "7dpnU3w-hX0D",
        "outputId": "fdb8e1a7-621f-4780-8349-c10d74dd4636"
      },
      "source": [
        "data.pivot_table(index='Segment',columns='Sub-Category',values='Profit',aggfunc='mean')"
      ],
      "execution_count": null,
      "outputs": [
        {
          "output_type": "execute_result",
          "data": {
            "text/html": [
              "<div>\n",
              "<style scoped>\n",
              "    .dataframe tbody tr th:only-of-type {\n",
              "        vertical-align: middle;\n",
              "    }\n",
              "\n",
              "    .dataframe tbody tr th {\n",
              "        vertical-align: top;\n",
              "    }\n",
              "\n",
              "    .dataframe thead th {\n",
              "        text-align: right;\n",
              "    }\n",
              "</style>\n",
              "<table border=\"1\" class=\"dataframe\">\n",
              "  <thead>\n",
              "    <tr style=\"text-align: right;\">\n",
              "      <th>Sub-Category</th>\n",
              "      <th>Accessories</th>\n",
              "      <th>Appliances</th>\n",
              "      <th>Art</th>\n",
              "      <th>Binders</th>\n",
              "      <th>Bookcases</th>\n",
              "      <th>Chairs</th>\n",
              "      <th>Copiers</th>\n",
              "      <th>Envelopes</th>\n",
              "      <th>Fasteners</th>\n",
              "      <th>Furnishings</th>\n",
              "      <th>Labels</th>\n",
              "      <th>Machines</th>\n",
              "      <th>Paper</th>\n",
              "      <th>Phones</th>\n",
              "      <th>Storage</th>\n",
              "      <th>Supplies</th>\n",
              "      <th>Tables</th>\n",
              "    </tr>\n",
              "    <tr>\n",
              "      <th>Segment</th>\n",
              "      <th></th>\n",
              "      <th></th>\n",
              "      <th></th>\n",
              "      <th></th>\n",
              "      <th></th>\n",
              "      <th></th>\n",
              "      <th></th>\n",
              "      <th></th>\n",
              "      <th></th>\n",
              "      <th></th>\n",
              "      <th></th>\n",
              "      <th></th>\n",
              "      <th></th>\n",
              "      <th></th>\n",
              "      <th></th>\n",
              "      <th></th>\n",
              "      <th></th>\n",
              "    </tr>\n",
              "  </thead>\n",
              "  <tbody>\n",
              "    <tr>\n",
              "      <th>Consumer</th>\n",
              "      <td>50.823339</td>\n",
              "      <td>28.614460</td>\n",
              "      <td>8.070797</td>\n",
              "      <td>23.071278</td>\n",
              "      <td>-33.859834</td>\n",
              "      <td>40.228972</td>\n",
              "      <td>688.106017</td>\n",
              "      <td>25.305524</td>\n",
              "      <td>5.059656</td>\n",
              "      <td>16.031220</td>\n",
              "      <td>16.275071</td>\n",
              "      <td>37.562488</td>\n",
              "      <td>22.416513</td>\n",
              "      <td>52.853913</td>\n",
              "      <td>15.787112</td>\n",
              "      <td>-16.575513</td>\n",
              "      <td>-61.182628</td>\n",
              "    </tr>\n",
              "    <tr>\n",
              "      <th>Corporate</th>\n",
              "      <td>55.980090</td>\n",
              "      <td>47.934808</td>\n",
              "      <td>9.195632</td>\n",
              "      <td>13.482706</td>\n",
              "      <td>9.975784</td>\n",
              "      <td>44.386471</td>\n",
              "      <td>949.513945</td>\n",
              "      <td>30.609869</td>\n",
              "      <td>4.269542</td>\n",
              "      <td>12.181277</td>\n",
              "      <td>17.263013</td>\n",
              "      <td>20.086257</td>\n",
              "      <td>25.395948</td>\n",
              "      <td>43.258160</td>\n",
              "      <td>35.119326</td>\n",
              "      <td>5.556170</td>\n",
              "      <td>-46.287723</td>\n",
              "    </tr>\n",
              "    <tr>\n",
              "      <th>Home Office</th>\n",
              "      <td>60.665948</td>\n",
              "      <td>55.614657</td>\n",
              "      <td>7.125588</td>\n",
              "      <td>21.662393</td>\n",
              "      <td>9.837333</td>\n",
              "      <td>50.101779</td>\n",
              "      <td>964.910415</td>\n",
              "      <td>27.525246</td>\n",
              "      <td>2.745782</td>\n",
              "      <td>9.322933</td>\n",
              "      <td>9.718333</td>\n",
              "      <td>23.507657</td>\n",
              "      <td>30.324829</td>\n",
              "      <td>53.689134</td>\n",
              "      <td>37.085304</td>\n",
              "      <td>4.466393</td>\n",
              "      <td>-57.239717</td>\n",
              "    </tr>\n",
              "  </tbody>\n",
              "</table>\n",
              "</div>"
            ],
            "text/plain": [
              "Sub-Category  Accessories  Appliances  ...   Supplies     Tables\n",
              "Segment                                ...                      \n",
              "Consumer        50.823339   28.614460  ... -16.575513 -61.182628\n",
              "Corporate       55.980090   47.934808  ...   5.556170 -46.287723\n",
              "Home Office     60.665948   55.614657  ...   4.466393 -57.239717\n",
              "\n",
              "[3 rows x 17 columns]"
            ]
          },
          "metadata": {
            "tags": []
          },
          "execution_count": 17
        }
      ]
    },
    {
      "cell_type": "markdown",
      "metadata": {
        "id": "Lrp_izS6htV_"
      },
      "source": [
        "The above table shows profit of each segment in each category."
      ]
    },
    {
      "cell_type": "code",
      "metadata": {
        "colab": {
          "base_uri": "https://localhost:8080/",
          "height": 273
        },
        "id": "W3DC2m7ffUNM",
        "outputId": "3133065f-7ab4-414e-fbbc-540360561d21"
      },
      "source": [
        "data.pivot_table(index='Segment',columns='City',values='Profit',aggfunc='mean')"
      ],
      "execution_count": null,
      "outputs": [
        {
          "output_type": "execute_result",
          "data": {
            "text/html": [
              "<div>\n",
              "<style scoped>\n",
              "    .dataframe tbody tr th:only-of-type {\n",
              "        vertical-align: middle;\n",
              "    }\n",
              "\n",
              "    .dataframe tbody tr th {\n",
              "        vertical-align: top;\n",
              "    }\n",
              "\n",
              "    .dataframe thead th {\n",
              "        text-align: right;\n",
              "    }\n",
              "</style>\n",
              "<table border=\"1\" class=\"dataframe\">\n",
              "  <thead>\n",
              "    <tr style=\"text-align: right;\">\n",
              "      <th>City</th>\n",
              "      <th>Aberdeen</th>\n",
              "      <th>Abilene</th>\n",
              "      <th>Akron</th>\n",
              "      <th>Albuquerque</th>\n",
              "      <th>Alexandria</th>\n",
              "      <th>Allen</th>\n",
              "      <th>Allentown</th>\n",
              "      <th>Altoona</th>\n",
              "      <th>Amarillo</th>\n",
              "      <th>Anaheim</th>\n",
              "      <th>Andover</th>\n",
              "      <th>Ann Arbor</th>\n",
              "      <th>Antioch</th>\n",
              "      <th>Apopka</th>\n",
              "      <th>Apple Valley</th>\n",
              "      <th>Appleton</th>\n",
              "      <th>Arlington</th>\n",
              "      <th>Arlington Heights</th>\n",
              "      <th>Arvada</th>\n",
              "      <th>Asheville</th>\n",
              "      <th>Athens</th>\n",
              "      <th>Atlanta</th>\n",
              "      <th>Atlantic City</th>\n",
              "      <th>Auburn</th>\n",
              "      <th>Aurora</th>\n",
              "      <th>Austin</th>\n",
              "      <th>Avondale</th>\n",
              "      <th>Bakersfield</th>\n",
              "      <th>Baltimore</th>\n",
              "      <th>Bangor</th>\n",
              "      <th>Bartlett</th>\n",
              "      <th>Bayonne</th>\n",
              "      <th>Baytown</th>\n",
              "      <th>Beaumont</th>\n",
              "      <th>Bedford</th>\n",
              "      <th>Belleville</th>\n",
              "      <th>Bellevue</th>\n",
              "      <th>Bellingham</th>\n",
              "      <th>Bethlehem</th>\n",
              "      <th>Beverly</th>\n",
              "      <th>...</th>\n",
              "      <th>Tuscaloosa</th>\n",
              "      <th>Twin Falls</th>\n",
              "      <th>Tyler</th>\n",
              "      <th>Urbandale</th>\n",
              "      <th>Utica</th>\n",
              "      <th>Vacaville</th>\n",
              "      <th>Vallejo</th>\n",
              "      <th>Vancouver</th>\n",
              "      <th>Vineland</th>\n",
              "      <th>Virginia Beach</th>\n",
              "      <th>Visalia</th>\n",
              "      <th>Waco</th>\n",
              "      <th>Warner Robins</th>\n",
              "      <th>Warwick</th>\n",
              "      <th>Washington</th>\n",
              "      <th>Waterbury</th>\n",
              "      <th>Waterloo</th>\n",
              "      <th>Watertown</th>\n",
              "      <th>Waukesha</th>\n",
              "      <th>Wausau</th>\n",
              "      <th>Waynesboro</th>\n",
              "      <th>West Allis</th>\n",
              "      <th>West Jordan</th>\n",
              "      <th>West Palm Beach</th>\n",
              "      <th>Westfield</th>\n",
              "      <th>Westland</th>\n",
              "      <th>Westminster</th>\n",
              "      <th>Wheeling</th>\n",
              "      <th>Whittier</th>\n",
              "      <th>Wichita</th>\n",
              "      <th>Wilmington</th>\n",
              "      <th>Wilson</th>\n",
              "      <th>Woodbury</th>\n",
              "      <th>Woodland</th>\n",
              "      <th>Woodstock</th>\n",
              "      <th>Woonsocket</th>\n",
              "      <th>Yonkers</th>\n",
              "      <th>York</th>\n",
              "      <th>Yucaipa</th>\n",
              "      <th>Yuma</th>\n",
              "    </tr>\n",
              "    <tr>\n",
              "      <th>Segment</th>\n",
              "      <th></th>\n",
              "      <th></th>\n",
              "      <th></th>\n",
              "      <th></th>\n",
              "      <th></th>\n",
              "      <th></th>\n",
              "      <th></th>\n",
              "      <th></th>\n",
              "      <th></th>\n",
              "      <th></th>\n",
              "      <th></th>\n",
              "      <th></th>\n",
              "      <th></th>\n",
              "      <th></th>\n",
              "      <th></th>\n",
              "      <th></th>\n",
              "      <th></th>\n",
              "      <th></th>\n",
              "      <th></th>\n",
              "      <th></th>\n",
              "      <th></th>\n",
              "      <th></th>\n",
              "      <th></th>\n",
              "      <th></th>\n",
              "      <th></th>\n",
              "      <th></th>\n",
              "      <th></th>\n",
              "      <th></th>\n",
              "      <th></th>\n",
              "      <th></th>\n",
              "      <th></th>\n",
              "      <th></th>\n",
              "      <th></th>\n",
              "      <th></th>\n",
              "      <th></th>\n",
              "      <th></th>\n",
              "      <th></th>\n",
              "      <th></th>\n",
              "      <th></th>\n",
              "      <th></th>\n",
              "      <th></th>\n",
              "      <th></th>\n",
              "      <th></th>\n",
              "      <th></th>\n",
              "      <th></th>\n",
              "      <th></th>\n",
              "      <th></th>\n",
              "      <th></th>\n",
              "      <th></th>\n",
              "      <th></th>\n",
              "      <th></th>\n",
              "      <th></th>\n",
              "      <th></th>\n",
              "      <th></th>\n",
              "      <th></th>\n",
              "      <th></th>\n",
              "      <th></th>\n",
              "      <th></th>\n",
              "      <th></th>\n",
              "      <th></th>\n",
              "      <th></th>\n",
              "      <th></th>\n",
              "      <th></th>\n",
              "      <th></th>\n",
              "      <th></th>\n",
              "      <th></th>\n",
              "      <th></th>\n",
              "      <th></th>\n",
              "      <th></th>\n",
              "      <th></th>\n",
              "      <th></th>\n",
              "      <th></th>\n",
              "      <th></th>\n",
              "      <th></th>\n",
              "      <th></th>\n",
              "      <th></th>\n",
              "      <th></th>\n",
              "      <th></th>\n",
              "      <th></th>\n",
              "      <th></th>\n",
              "      <th></th>\n",
              "    </tr>\n",
              "  </thead>\n",
              "  <tbody>\n",
              "    <tr>\n",
              "      <th>Consumer</th>\n",
              "      <td>6.63</td>\n",
              "      <td>-3.7584</td>\n",
              "      <td>-11.6102</td>\n",
              "      <td>9.628450</td>\n",
              "      <td>10.528933</td>\n",
              "      <td>-9.969375</td>\n",
              "      <td>1.85640</td>\n",
              "      <td>NaN</td>\n",
              "      <td>-44.795538</td>\n",
              "      <td>25.212375</td>\n",
              "      <td>31.04715</td>\n",
              "      <td>NaN</td>\n",
              "      <td>NaN</td>\n",
              "      <td>11.566133</td>\n",
              "      <td>5.339867</td>\n",
              "      <td>544.4175</td>\n",
              "      <td>153.018607</td>\n",
              "      <td>1.2348</td>\n",
              "      <td>NaN</td>\n",
              "      <td>23.2896</td>\n",
              "      <td>77.92778</td>\n",
              "      <td>154.739410</td>\n",
              "      <td>NaN</td>\n",
              "      <td>33.250653</td>\n",
              "      <td>-11.969807</td>\n",
              "      <td>2.174200</td>\n",
              "      <td>12.694833</td>\n",
              "      <td>14.840691</td>\n",
              "      <td>33.500822</td>\n",
              "      <td>NaN</td>\n",
              "      <td>10.008</td>\n",
              "      <td>NaN</td>\n",
              "      <td>NaN</td>\n",
              "      <td>14.5397</td>\n",
              "      <td>NaN</td>\n",
              "      <td>37.07256</td>\n",
              "      <td>6.97965</td>\n",
              "      <td>123.8779</td>\n",
              "      <td>-330.1810</td>\n",
              "      <td>NaN</td>\n",
              "      <td>...</td>\n",
              "      <td>NaN</td>\n",
              "      <td>NaN</td>\n",
              "      <td>-88.74172</td>\n",
              "      <td>19.239333</td>\n",
              "      <td>24.855257</td>\n",
              "      <td>110.0528</td>\n",
              "      <td>14.557675</td>\n",
              "      <td>NaN</td>\n",
              "      <td>5.278120</td>\n",
              "      <td>56.311988</td>\n",
              "      <td>28.187667</td>\n",
              "      <td>-103.83164</td>\n",
              "      <td>10.4650</td>\n",
              "      <td>NaN</td>\n",
              "      <td>144.470929</td>\n",
              "      <td>11.028875</td>\n",
              "      <td>11.8248</td>\n",
              "      <td>60.901375</td>\n",
              "      <td>14.17</td>\n",
              "      <td>22.60765</td>\n",
              "      <td>70.982086</td>\n",
              "      <td>NaN</td>\n",
              "      <td>20.53446</td>\n",
              "      <td>14.7386</td>\n",
              "      <td>NaN</td>\n",
              "      <td>29.969192</td>\n",
              "      <td>44.922859</td>\n",
              "      <td>-92.567850</td>\n",
              "      <td>44.4768</td>\n",
              "      <td>51.14284</td>\n",
              "      <td>37.524608</td>\n",
              "      <td>7.7396</td>\n",
              "      <td>NaN</td>\n",
              "      <td>23.9984</td>\n",
              "      <td>30.3871</td>\n",
              "      <td>20.1248</td>\n",
              "      <td>205.625423</td>\n",
              "      <td>NaN</td>\n",
              "      <td>NaN</td>\n",
              "      <td>NaN</td>\n",
              "    </tr>\n",
              "    <tr>\n",
              "      <th>Corporate</th>\n",
              "      <td>NaN</td>\n",
              "      <td>NaN</td>\n",
              "      <td>-6.2231</td>\n",
              "      <td>62.489250</td>\n",
              "      <td>30.245483</td>\n",
              "      <td>NaN</td>\n",
              "      <td>NaN</td>\n",
              "      <td>-0.59175</td>\n",
              "      <td>-14.802000</td>\n",
              "      <td>75.509600</td>\n",
              "      <td>NaN</td>\n",
              "      <td>38.12895</td>\n",
              "      <td>9.3312</td>\n",
              "      <td>-11.889600</td>\n",
              "      <td>63.809250</td>\n",
              "      <td>NaN</td>\n",
              "      <td>-0.563158</td>\n",
              "      <td>NaN</td>\n",
              "      <td>14.9639</td>\n",
              "      <td>-5.2170</td>\n",
              "      <td>29.89440</td>\n",
              "      <td>250.387833</td>\n",
              "      <td>11.68</td>\n",
              "      <td>33.519700</td>\n",
              "      <td>-61.623729</td>\n",
              "      <td>-28.061555</td>\n",
              "      <td>NaN</td>\n",
              "      <td>7.170400</td>\n",
              "      <td>37.566322</td>\n",
              "      <td>84.44408</td>\n",
              "      <td>NaN</td>\n",
              "      <td>NaN</td>\n",
              "      <td>3.6288</td>\n",
              "      <td>0.9576</td>\n",
              "      <td>0.95205</td>\n",
              "      <td>19.65728</td>\n",
              "      <td>1.53120</td>\n",
              "      <td>362.8350</td>\n",
              "      <td>-6.2764</td>\n",
              "      <td>218.306467</td>\n",
              "      <td>...</td>\n",
              "      <td>NaN</td>\n",
              "      <td>133.08245</td>\n",
              "      <td>NaN</td>\n",
              "      <td>NaN</td>\n",
              "      <td>14.572800</td>\n",
              "      <td>NaN</td>\n",
              "      <td>NaN</td>\n",
              "      <td>16.00235</td>\n",
              "      <td>11.953733</td>\n",
              "      <td>374.668675</td>\n",
              "      <td>3.484800</td>\n",
              "      <td>-0.94520</td>\n",
              "      <td>43.2234</td>\n",
              "      <td>212.75912</td>\n",
              "      <td>NaN</td>\n",
              "      <td>53.225567</td>\n",
              "      <td>NaN</td>\n",
              "      <td>126.292140</td>\n",
              "      <td>NaN</td>\n",
              "      <td>NaN</td>\n",
              "      <td>NaN</td>\n",
              "      <td>14.1854</td>\n",
              "      <td>NaN</td>\n",
              "      <td>NaN</td>\n",
              "      <td>11.7039</td>\n",
              "      <td>NaN</td>\n",
              "      <td>NaN</td>\n",
              "      <td>NaN</td>\n",
              "      <td>NaN</td>\n",
              "      <td>NaN</td>\n",
              "      <td>71.688911</td>\n",
              "      <td>-8.1344</td>\n",
              "      <td>65.3654</td>\n",
              "      <td>4.6932</td>\n",
              "      <td>-12.0784</td>\n",
              "      <td>19.5181</td>\n",
              "      <td>NaN</td>\n",
              "      <td>-20.43384</td>\n",
              "      <td>13.208</td>\n",
              "      <td>24.94095</td>\n",
              "    </tr>\n",
              "    <tr>\n",
              "      <th>Home Office</th>\n",
              "      <td>NaN</td>\n",
              "      <td>NaN</td>\n",
              "      <td>0.8178</td>\n",
              "      <td>57.602883</td>\n",
              "      <td>15.079800</td>\n",
              "      <td>NaN</td>\n",
              "      <td>-46.03264</td>\n",
              "      <td>NaN</td>\n",
              "      <td>NaN</td>\n",
              "      <td>NaN</td>\n",
              "      <td>NaN</td>\n",
              "      <td>76.40000</td>\n",
              "      <td>NaN</td>\n",
              "      <td>21.722100</td>\n",
              "      <td>10.666200</td>\n",
              "      <td>10.3488</td>\n",
              "      <td>7.548086</td>\n",
              "      <td>NaN</td>\n",
              "      <td>NaN</td>\n",
              "      <td>NaN</td>\n",
              "      <td>NaN</td>\n",
              "      <td>347.207100</td>\n",
              "      <td>NaN</td>\n",
              "      <td>1.297600</td>\n",
              "      <td>-56.912200</td>\n",
              "      <td>40.075150</td>\n",
              "      <td>NaN</td>\n",
              "      <td>3.445433</td>\n",
              "      <td>56.712771</td>\n",
              "      <td>NaN</td>\n",
              "      <td>NaN</td>\n",
              "      <td>26.467667</td>\n",
              "      <td>NaN</td>\n",
              "      <td>NaN</td>\n",
              "      <td>6.81200</td>\n",
              "      <td>NaN</td>\n",
              "      <td>7.60500</td>\n",
              "      <td>NaN</td>\n",
              "      <td>NaN</td>\n",
              "      <td>NaN</td>\n",
              "      <td>...</td>\n",
              "      <td>25.5052</td>\n",
              "      <td>NaN</td>\n",
              "      <td>NaN</td>\n",
              "      <td>NaN</td>\n",
              "      <td>NaN</td>\n",
              "      <td>NaN</td>\n",
              "      <td>138.902400</td>\n",
              "      <td>11.44520</td>\n",
              "      <td>NaN</td>\n",
              "      <td>18.928275</td>\n",
              "      <td>NaN</td>\n",
              "      <td>NaN</td>\n",
              "      <td>NaN</td>\n",
              "      <td>NaN</td>\n",
              "      <td>16.097600</td>\n",
              "      <td>33.785825</td>\n",
              "      <td>NaN</td>\n",
              "      <td>31.941000</td>\n",
              "      <td>NaN</td>\n",
              "      <td>NaN</td>\n",
              "      <td>35.503733</td>\n",
              "      <td>NaN</td>\n",
              "      <td>NaN</td>\n",
              "      <td>2.1320</td>\n",
              "      <td>32.4420</td>\n",
              "      <td>NaN</td>\n",
              "      <td>NaN</td>\n",
              "      <td>87.625067</td>\n",
              "      <td>NaN</td>\n",
              "      <td>34.10620</td>\n",
              "      <td>133.970367</td>\n",
              "      <td>-5.4120</td>\n",
              "      <td>NaN</td>\n",
              "      <td>NaN</td>\n",
              "      <td>0.9100</td>\n",
              "      <td>NaN</td>\n",
              "      <td>47.312600</td>\n",
              "      <td>NaN</td>\n",
              "      <td>NaN</td>\n",
              "      <td>-257.93640</td>\n",
              "    </tr>\n",
              "  </tbody>\n",
              "</table>\n",
              "<p>3 rows × 531 columns</p>\n",
              "</div>"
            ],
            "text/plain": [
              "City         Aberdeen  Abilene    Akron  ...      York  Yucaipa       Yuma\n",
              "Segment                                  ...                              \n",
              "Consumer         6.63  -3.7584 -11.6102  ...       NaN      NaN        NaN\n",
              "Corporate         NaN      NaN  -6.2231  ... -20.43384   13.208   24.94095\n",
              "Home Office       NaN      NaN   0.8178  ...       NaN      NaN -257.93640\n",
              "\n",
              "[3 rows x 531 columns]"
            ]
          },
          "metadata": {
            "tags": []
          },
          "execution_count": 18
        }
      ]
    },
    {
      "cell_type": "markdown",
      "metadata": {
        "id": "oNZByQSahP7w"
      },
      "source": [
        "The above table shows profit of each segment in each city."
      ]
    },
    {
      "cell_type": "markdown",
      "metadata": {
        "id": "JW2VRQ2Yl18-"
      },
      "source": [
        "# Graphical Representation of Profit vs bivariate features"
      ]
    },
    {
      "cell_type": "code",
      "metadata": {
        "colab": {
          "base_uri": "https://localhost:8080/",
          "height": 422
        },
        "id": "HezFJ0yPf1_z",
        "outputId": "a52b9962-21ba-4f18-d875-c39698bcc5d4"
      },
      "source": [
        "plt.figure(figsize=(10,5))\r\n",
        "profit_table=data.groupby(['Segment','Discount']).Profit.mean()\r\n",
        "profit_table.plot(kind='bar')\r\n",
        "plt.show()"
      ],
      "execution_count": null,
      "outputs": [
        {
          "output_type": "display_data",
          "data": {
            "image/png": "[encoded data removed]",
            "text/plain": [
              "<Figure size 720x360 with 1 Axes>"
            ]
          },
          "metadata": {
            "tags": [],
            "needs_background": "light"
          }
        }
      ]
    },
    {
      "cell_type": "code",
      "metadata": {
        "colab": {
          "base_uri": "https://localhost:8080/",
          "height": 474
        },
        "id": "waPLHdiilYlp",
        "outputId": "6de0bcd3-649d-4d92-8b71-42e9bcb39368"
      },
      "source": [
        "plt.figure(figsize=(10,5))\r\n",
        "profit_table=data.groupby(['Segment','Category']).Profit.mean()\r\n",
        "profit_table.plot(kind='bar')\r\n",
        "plt.show()"
      ],
      "execution_count": null,
      "outputs": [
        {
          "output_type": "display_data",
          "data": {
            "image/png": "[encoded data removed]",
            "text/plain": [
              "<Figure size 720x360 with 1 Axes>"
            ]
          },
          "metadata": {
            "tags": [],
            "needs_background": "light"
          }
        }
      ]
    },
    {
      "cell_type": "markdown",
      "metadata": {
        "id": "cKn4eEMzlreX"
      },
      "source": [
        "### The shopkeeper can analyse the above data analysis and take up steps to maximise his profit for eg, having discounts on items not exceeding 20%, investing more on technology items since that has the highest profit rate for all segment of consumers and so on."
      ]
    }
  ]
}